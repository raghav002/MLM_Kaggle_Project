{
 "cells": [
  {
   "metadata": {},
   "cell_type": "markdown",
   "source": "",
   "id": "9542113fa04ae31a"
  },
  {
   "cell_type": "code",
   "id": "initial_id",
   "metadata": {
    "collapsed": true,
    "ExecuteTime": {
     "end_time": "2024-10-03T22:15:53.175999Z",
     "start_time": "2024-10-03T22:15:51.662941Z"
    }
   },
   "source": [
    "import numpy as np # linear algebra\n",
    "import pandas as pd # data processing, CSV file I/O (e.g. pd.read_csv)\n",
    "import matplotlib.pyplot as plt\n",
    "import tensorflow as tf\n",
    "import keras_core as keras\n",
    "import keras_nlp\n",
    "from sklearn.metrics import ConfusionMatrixDisplay, confusion_matrix\n",
    "import seaborn as sns\n",
    "\n"
   ],
   "outputs": [
    {
     "name": "stdout",
     "output_type": "stream",
     "text": [
      "Using TensorFlow backend\n"
     ]
    },
    {
     "name": "stderr",
     "output_type": "stream",
     "text": [
      "/Library/Frameworks/Python.framework/Versions/3.11/lib/python3.11/site-packages/tqdm/auto.py:21: TqdmWarning: IProgress not found. Please update jupyter and ipywidgets. See https://ipywidgets.readthedocs.io/en/stable/user_install.html\n",
      "  from .autonotebook import tqdm as notebook_tqdm\n"
     ]
    }
   ],
   "execution_count": 14
  },
  {
   "metadata": {},
   "cell_type": "markdown",
   "source": [
    "Loading Datasets\n",
    "=\n",
    "\n",
    "\n",
    "id: index of Data\n",
    "\n",
    "keyword: A keyword from that tweet (although this may be blank!)\n",
    "\n",
    "location: The location the tweet was sent from (may also be blank)\n",
    "\n",
    "text: The text of a tweet,\n",
    "\n",
    "target: 1 if the tweet is a real disaster or 0 if not,"
   ],
   "id": "a57eeebb80da32eb"
  },
  {
   "metadata": {},
   "cell_type": "markdown",
   "source": "",
   "id": "30dc7a1fd4560d4f"
  },
  {
   "metadata": {
    "ExecuteTime": {
     "end_time": "2024-10-03T22:15:57.933019Z",
     "start_time": "2024-10-03T22:15:57.856323Z"
    }
   },
   "cell_type": "code",
   "source": [
    "train_dataset = pd.read_csv('Data/train.csv')\n",
    "test_dataset = pd.read_csv('Data/test.csv')\n",
    "submissionDataset = pd.read_csv('Data/sample_submission.csv')\n",
    "\n",
    "\n",
    "\n"
   ],
   "id": "ac7b46e57d7842ff",
   "outputs": [],
   "execution_count": 15
  },
  {
   "metadata": {},
   "cell_type": "markdown",
   "source": "",
   "id": "f25ac86804a97a27"
  },
  {
   "metadata": {
    "ExecuteTime": {
     "end_time": "2024-10-03T22:15:58.529571Z",
     "start_time": "2024-10-03T22:15:58.523549Z"
    }
   },
   "cell_type": "code",
   "source": "train_dataset.head()\n",
   "id": "827d1f29a90e7115",
   "outputs": [
    {
     "data": {
      "text/plain": [
       "   id keyword location                                               text  \\\n",
       "0   1     NaN      NaN  Our Deeds are the Reason of this #earthquake M...   \n",
       "1   4     NaN      NaN             Forest fire near La Ronge Sask. Canada   \n",
       "2   5     NaN      NaN  All residents asked to 'shelter in place' are ...   \n",
       "3   6     NaN      NaN  13,000 people receive #wildfires evacuation or...   \n",
       "4   7     NaN      NaN  Just got sent this photo from Ruby #Alaska as ...   \n",
       "\n",
       "   target  \n",
       "0       1  \n",
       "1       1  \n",
       "2       1  \n",
       "3       1  \n",
       "4       1  "
      ],
      "text/html": [
       "<div>\n",
       "<style scoped>\n",
       "    .dataframe tbody tr th:only-of-type {\n",
       "        vertical-align: middle;\n",
       "    }\n",
       "\n",
       "    .dataframe tbody tr th {\n",
       "        vertical-align: top;\n",
       "    }\n",
       "\n",
       "    .dataframe thead th {\n",
       "        text-align: right;\n",
       "    }\n",
       "</style>\n",
       "<table border=\"1\" class=\"dataframe\">\n",
       "  <thead>\n",
       "    <tr style=\"text-align: right;\">\n",
       "      <th></th>\n",
       "      <th>id</th>\n",
       "      <th>keyword</th>\n",
       "      <th>location</th>\n",
       "      <th>text</th>\n",
       "      <th>target</th>\n",
       "    </tr>\n",
       "  </thead>\n",
       "  <tbody>\n",
       "    <tr>\n",
       "      <th>0</th>\n",
       "      <td>1</td>\n",
       "      <td>NaN</td>\n",
       "      <td>NaN</td>\n",
       "      <td>Our Deeds are the Reason of this #earthquake M...</td>\n",
       "      <td>1</td>\n",
       "    </tr>\n",
       "    <tr>\n",
       "      <th>1</th>\n",
       "      <td>4</td>\n",
       "      <td>NaN</td>\n",
       "      <td>NaN</td>\n",
       "      <td>Forest fire near La Ronge Sask. Canada</td>\n",
       "      <td>1</td>\n",
       "    </tr>\n",
       "    <tr>\n",
       "      <th>2</th>\n",
       "      <td>5</td>\n",
       "      <td>NaN</td>\n",
       "      <td>NaN</td>\n",
       "      <td>All residents asked to 'shelter in place' are ...</td>\n",
       "      <td>1</td>\n",
       "    </tr>\n",
       "    <tr>\n",
       "      <th>3</th>\n",
       "      <td>6</td>\n",
       "      <td>NaN</td>\n",
       "      <td>NaN</td>\n",
       "      <td>13,000 people receive #wildfires evacuation or...</td>\n",
       "      <td>1</td>\n",
       "    </tr>\n",
       "    <tr>\n",
       "      <th>4</th>\n",
       "      <td>7</td>\n",
       "      <td>NaN</td>\n",
       "      <td>NaN</td>\n",
       "      <td>Just got sent this photo from Ruby #Alaska as ...</td>\n",
       "      <td>1</td>\n",
       "    </tr>\n",
       "  </tbody>\n",
       "</table>\n",
       "</div>"
      ]
     },
     "execution_count": 16,
     "metadata": {},
     "output_type": "execute_result"
    }
   ],
   "execution_count": 16
  },
  {
   "metadata": {
    "ExecuteTime": {
     "end_time": "2024-10-03T22:15:58.693074Z",
     "start_time": "2024-10-03T22:15:58.677661Z"
    }
   },
   "cell_type": "code",
   "source": [
    "print(\"Shape of train dataset: \", train_dataset.shape)\n",
    "print(\"Shape of test dataset: \", test_dataset.shape)\n",
    "print(\"\\nTrain Memory Usage: \" , train_dataset.memory_usage(deep=True))\n",
    "print(\"\\nTest Memory Usage: \" , test_dataset.memory_usage(deep=True))"
   ],
   "id": "4b3577b60eee6b7f",
   "outputs": [
    {
     "name": "stdout",
     "output_type": "stream",
     "text": [
      "Shape of train dataset:  (7613, 5)\n",
      "Shape of test dataset:  (3263, 4)\n",
      "\n",
      "Train Memory Usage:  Index           132\n",
      "id            60904\n",
      "keyword      498399\n",
      "location     442456\n",
      "text        1219867\n",
      "target        60904\n",
      "dtype: int64\n",
      "\n",
      "Test Memory Usage:  Index          132\n",
      "id           26104\n",
      "keyword     214198\n",
      "location    188800\n",
      "text        527114\n",
      "dtype: int64\n"
     ]
    }
   ],
   "execution_count": 17
  },
  {
   "metadata": {
    "ExecuteTime": {
     "end_time": "2024-10-03T22:15:58.893517Z",
     "start_time": "2024-10-03T22:15:58.889744Z"
    }
   },
   "cell_type": "code",
   "source": "",
   "id": "7d5cef2d6af542f8",
   "outputs": [],
   "execution_count": null
  },
  {
   "metadata": {
    "ExecuteTime": {
     "end_time": "2024-10-03T22:15:59.180546Z",
     "start_time": "2024-10-03T22:15:59.174436Z"
    }
   },
   "cell_type": "code",
   "source": "",
   "id": "7162b3ae2e31e72e",
   "outputs": [],
   "execution_count": null
  },
  {
   "metadata": {
    "ExecuteTime": {
     "end_time": "2024-10-03T22:15:59.282755Z",
     "start_time": "2024-10-03T22:15:59.279817Z"
    }
   },
   "cell_type": "code",
   "source": "",
   "id": "de94ea99814bde1b",
   "outputs": [],
   "execution_count": null
  },
  {
   "metadata": {},
   "cell_type": "code",
   "outputs": [],
   "execution_count": null,
   "source": "",
   "id": "4a0ccbb047733394"
  }
 ],
 "metadata": {
  "kernelspec": {
   "display_name": "Python 3",
   "language": "python",
   "name": "python3"
  },
  "language_info": {
   "codemirror_mode": {
    "name": "ipython",
    "version": 2
   },
   "file_extension": ".py",
   "mimetype": "text/x-python",
   "name": "python",
   "nbconvert_exporter": "python",
   "pygments_lexer": "ipython2",
   "version": "2.7.6"
  }
 },
 "nbformat": 4,
 "nbformat_minor": 5
}
